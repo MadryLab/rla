{
 "cells": [
  {
   "cell_type": "code",
   "execution_count": 1,
   "id": "c22c7284-add5-4077-95d6-57bc556175d0",
   "metadata": {},
   "outputs": [
    {
     "name": "stderr",
     "output_type": "stream",
     "text": [
      "/home/fosterb/anaconda3/envs/rla_new/lib/python3.10/site-packages/tqdm/auto.py:21: TqdmWarning: IProgress not found. Please update jupyter and ipywidgets. See https://ipywidgets.readthedocs.io/en/stable/user_install.html\n",
      "  from .autonotebook import tqdm as notebook_tqdm\n",
      "2024-11-18 19:01:54.172266: E external/local_xla/xla/stream_executor/cuda/cuda_fft.cc:485] Unable to register cuFFT factory: Attempting to register factory for plugin cuFFT when one has already been registered\n",
      "2024-11-18 19:01:54.182813: E external/local_xla/xla/stream_executor/cuda/cuda_dnn.cc:8454] Unable to register cuDNN factory: Attempting to register factory for plugin cuDNN when one has already been registered\n",
      "2024-11-18 19:01:54.186020: E external/local_xla/xla/stream_executor/cuda/cuda_blas.cc:1452] Unable to register cuBLAS factory: Attempting to register factory for plugin cuBLAS when one has already been registered\n",
      "2024-11-18 19:01:54.194905: I tensorflow/core/platform/cpu_feature_guard.cc:210] This TensorFlow binary is optimized to use available CPU instructions in performance-critical operations.\n",
      "To enable the following instructions: AVX2 FMA, in other operations, rebuild TensorFlow with the appropriate compiler flags.\n",
      "2024-11-18 19:01:54.819344: W tensorflow/compiler/tf2tensorrt/utils/py_utils.cc:38] TF-TRT Warning: Could not find TensorRT\n"
     ]
    }
   ],
   "source": [
    "import src.models_and_optimizers as model_utils\n",
    "from types import SimpleNamespace\n",
    "from clip_main import get_wds_loaders\n",
    "from transformers import EsmTokenizer\n",
    "import src.data_utils as data_utils\n",
    "import os\n",
    "import torch\n",
    "from tqdm import tqdm\n",
    "from torch.cuda.amp import autocast\n",
    "from transformers import EsmTokenizer, EsmModel\n",
    "import esm as esmlib"
   ]
  },
  {
   "cell_type": "code",
   "execution_count": null,
   "id": "55d6b7c6",
   "metadata": {},
   "outputs": [],
   "source": []
  },
  {
   "cell_type": "code",
   "execution_count": 2,
   "id": "6c68069b-1dd5-43cb-badf-537b6df382aa",
   "metadata": {},
   "outputs": [
    {
     "name": "stdout",
     "output_type": "stream",
     "text": [
      "{'num_workers': 1, 'batch_size': 1, 'exp_name': '11_13_new_blacklist', 'epochs': 10, 'lr': 0.001, 'weight_decay': 0.001, 'momentum': 0.9, 'lr_peak_epoch': 2, 'label_smoothing': 0.0, 'disable_logging': 0, 'data_root': '/home/fosterb/rla_test/wds', 'eval_epochs': 2, 'out_dir': 'runs/', 'only_non_bn_weight_decay': False, 'opt': 'ADAM', 'lr_scheduler': 'cosine', 'mixed_precision': 1, 'max_seq_len': 1024, 'self_supervised': 1, 'burn_in': 0, 'max_coord_len': 2000, 'freeze_llm': 0, 'freeze_text_proj': 0, 'finetune_from': '', 'num_mutations': -1, 'mutation_fwd_method': 'all', 'masked_rate': -1.0, 'masked_mode': 'MASK', 'lm_only_text': 1, 'lm_weight': 1.0, 'resid_weight': 1.0, 'zip_enabled': 0, 'zip_train_format_string': '', 'cath_info_dict': '', 'arch': 'facebook/esm2_t30_150M_UR50D', 'coordinator_hparams': 'terminator_configs/coordinator_broken_merge.json', 'gnn_checkpoint': '', 'gnn_num_pos_embs': 16, 'gnn_zero_out_pos_embs': False, 'language_head': 0, 'language_head_type': 'MLP', 'train_wds_path': 'wds_', 'val_wds_path': 'wds_', 'sharded': 1, 'blacklist_file': '', 'distributed': 0, 'world_size': 1, 'address': 'localhost', 'port': '12355', 'dist_train_len': 170000, 'dist_val_len': 4200}\n"
     ]
    },
    {
     "name": "stderr",
     "output_type": "stream",
     "text": [
      "/tmp/ipykernel_255123/613479242.py:22: FutureWarning: You are using `torch.load` with `weights_only=False` (the current default value), which uses the default pickle module implicitly. It is possible to construct malicious pickle data which will execute arbitrary code during unpickling (See https://github.com/pytorch/pytorch/blob/main/SECURITY.md#untrusted-models for more details). In a future release, the default value for `weights_only` will be flipped to `True`. This limits the functions that could be executed during unpickling. Arbitrary objects will no longer be allowed to be loaded via this mode unless they are explicitly allowlisted by the user via `torch.serialization.add_safe_globals`. We recommend you start setting `weights_only=True` for any use case where you don't have full control of the loaded file. Please open an issue on GitHub for any issues related to this experimental feature.\n",
      "  hparams = torch.load(args_path)\n"
     ]
    }
   ],
   "source": [
    "## GENERAL SETUP (CHANGE PATHS AS NEEDED)\n",
    "ROOT = \"model_weights\"\n",
    "model_dir = \"version_0/\" \n",
    "dev = 'cuda:0'\n",
    "CLIP_MODE = False\n",
    "root_path = os.path.join(ROOT, model_dir)\n",
    "path = os.path.join(root_path, \"checkpoints/checkpoint_best.pt\")\n",
    "data_root = \"/home/fosterb/rla_test/wds\" #\n",
    "args_path = os.path.join(ROOT, model_dir, [u for u in os.listdir(os.path.join(ROOT, model_dir)) if u.endswith('.pt')][0])\n",
    "\n",
    "backwards_compat = {\n",
    "    'masked_rate': -1,\n",
    "    'masked_mode': 'MASK',\n",
    "    'lm_only_text': 1,\n",
    "    'lm_weight': 1,\n",
    "    'resid_weight': 1,\n",
    "    'language_head': False,\n",
    "    'language_head_type': 'MLP',\n",
    "    'zip_enabled': False,\n",
    "    'num_mutations': False,\n",
    "}\n",
    "hparams = torch.load(args_path)\n",
    "args_dict = hparams['args']\n",
    "args_dict['data_root'] = data_root\n",
    "args_dict['train_wds_path'] = 'wds_'\n",
    "args_dict['val_wds_path'] = 'wds_'\n",
    "args_dict['batch_size'] = 1\n",
    "args_dict['num_workers'] = 1\n",
    "args_dict['blacklist_file'] = ''\n",
    "for k in backwards_compat.keys():\n",
    "    if k not in args_dict:\n",
    "        args_dict[k] = backwards_compat[k]\n",
    "args = SimpleNamespace(**args_dict)\n",
    "\n",
    "print(vars(args))\n",
    "\n",
    "coordinator_params = data_utils.get_coordinator_params(args.coordinator_hparams)\n",
    "coordinator_params['num_positional_embeddings'] = args.gnn_num_pos_embs\n",
    "coordinator_params['zero_out_pos_embs']= args.gnn_zero_out_pos_embs\n",
    "coordinator_params['clip_mode'] = True"
   ]
  },
  {
   "cell_type": "code",
   "execution_count": 3,
   "id": "6bfa0497-ab5f-4488-b09a-76129329cdcd",
   "metadata": {},
   "outputs": [
    {
     "name": "stderr",
     "output_type": "stream",
     "text": [
      "/home/fosterb/rla_test/src/models_and_optimizers.py:33: FutureWarning: You are using `torch.load` with `weights_only=False` (the current default value), which uses the default pickle module implicitly. It is possible to construct malicious pickle data which will execute arbitrary code during unpickling (See https://github.com/pytorch/pytorch/blob/main/SECURITY.md#untrusted-models for more details). In a future release, the default value for `weights_only` will be flipped to `True`. This limits the functions that could be executed during unpickling. Arbitrary objects will no longer be allowed to be loaded via this mode unless they are explicitly allowlisted by the user via `torch.serialization.add_safe_globals`. We recommend you start setting `weights_only=True` for any use case where you don't have full control of the loaded file. Please open an issue on GitHub for any issues related to this experimental feature.\n",
      "  ckpt = torch.load(path, map_location=torch.device(device))\n"
     ]
    },
    {
     "name": "stdout",
     "output_type": "stream",
     "text": [
      "loading state dict from model_weights/version_0/checkpoints/checkpoint_best.pt\n"
     ]
    },
    {
     "name": "stderr",
     "output_type": "stream",
     "text": [
      "Some weights of EsmModel were not initialized from the model checkpoint at esm_model_150 and are newly initialized: ['esm.pooler.dense.bias', 'esm.pooler.dense.weight']\n",
      "You should probably TRAIN this model on a down-stream task to be able to use it for predictions and inference.\n"
     ]
    },
    {
     "name": "stdout",
     "output_type": "stream",
     "text": [
      "building model based on path\n",
      "ZERO OUT POS EMB False\n",
      "GNN Potts Model Encoder hidden dimensionality is 128\n",
      "freeze_llm False\n",
      "use text proj:  True\n",
      "args: \n",
      "320 True\n"
     ]
    },
    {
     "name": "stderr",
     "output_type": "stream",
     "text": [
      "/home/fosterb/anaconda3/envs/rla_new/lib/python3.10/site-packages/transformers/tokenization_utils_base.py:1601: FutureWarning: `clean_up_tokenization_spaces` was not set. It will be set to `True` by default. This behavior will be depracted in transformers v4.45, and will be then set to `False` by default. For more details check this issue: https://github.com/huggingface/transformers/issues/31884\n",
      "  warnings.warn(\n",
      "Some weights of EsmModel were not initialized from the model checkpoint at esm_model_150 and are newly initialized: ['esm.pooler.dense.bias', 'esm.pooler.dense.weight']\n",
      "You should probably TRAIN this model on a down-stream task to be able to use it for predictions and inference.\n"
     ]
    }
   ],
   "source": [
    "## LOAD MODEL (NO CHANGES NEEDED)\n",
    "args_dict['arch']= 'esm_model_150'\n",
    "trained_model = model_utils.load_model(path, args_dict['arch'], dev)\n",
    "tokenizer = EsmTokenizer.from_pretrained(args_dict['arch'])\n",
    "esm_arch = 'esm_model_150'\n",
    "esm_model = EsmModel.from_pretrained(args_dict['arch']) \n",
    "esm_model = esm_model.to(dev)\n",
    "esm_model.eval()\n",
    "esm, alphabet = esmlib.pretrained.esm2_t30_150M_UR50D()\n",
    "# esm, alphabet = esmlib.pretrained.esm1v_t33_650M_UR90S_1()\n",
    "esm = esm.eval().cuda()"
   ]
  },
  {
   "cell_type": "code",
   "execution_count": 4,
   "id": "c9e23d79-447d-4a43-931e-6fa028a4306e",
   "metadata": {},
   "outputs": [
    {
     "name": "stderr",
     "output_type": "stream",
     "text": [
      "/home/fosterb/anaconda3/envs/rla_new/lib/python3.10/site-packages/Bio/pairwise2.py:278: BiopythonDeprecationWarning: Bio.pairwise2 has been deprecated, and we intend to remove it in a future release of Biopython. As an alternative, please consider using Bio.Align.PairwiseAligner as a replacement, and contact the Biopython developers if you still need the Bio.pairwise2 module.\n",
      "  warnings.warn(\n",
      "/tmp/ipykernel_255123/2500981057.py:21: DeprecationWarning: Please import `pearsonr` from the `scipy.stats` namespace; the `scipy.stats.stats` namespace is deprecated and will be removed in SciPy 2.0.0.\n",
      "  from scipy.stats.stats import pearsonr\n"
     ]
    }
   ],
   "source": [
    "## LOAD UTIL FUNCTIONS (NO CHANGES NEEDED)\n",
    "%run 2023_12_11_rla_utils.ipynb"
   ]
  },
  {
   "cell_type": "code",
   "execution_count": 5,
   "id": "5897b93d-e04a-4bc5-ae88-adb2d4f9fc89",
   "metadata": {},
   "outputs": [],
   "source": [
    "trained_model = trained_model.eval()"
   ]
  },
  {
   "cell_type": "code",
   "execution_count": 11,
   "id": "dc166e1c-e7c0-4358-983e-6b54e50a8859",
   "metadata": {},
   "outputs": [],
   "source": [
    "## DEFINE RLA SETTING CALCULATIONS (SOME CHANGES POSSIBLE)\n",
    "seq_mask=None # 'peptide' to mask peptide sequence, 'protein' to mask protein sequence\n",
    "struct_mask=None # 'peptide' to mask peptide structure, 'protein' to mask protein structure\n",
    "top_k = 30 # Num neighbors, probably want to keep at 30 but can experiment\n",
    "focus = True # RLA calculation setting that limits RLA score to interface, almost certainly want to keep True\n",
    "remove_far = True # Removes residues too far from the interface, likely want to keep True\n",
    "threshold = 1 # Threshold for remove_far calculation, likely want to keep at 1\n",
    "weight_dists = False # Weights RLA score per residue by distance from interface, likely want to keep False\n",
    "pep_weight = 1 # Weight of peptide residues relative to protein residues, likely want to keep at 1\n"
   ]
  },
  {
   "cell_type": "code",
   "execution_count": 12,
   "id": "f84a1277-4b88-4d98-848a-f412f3a9a6ca",
   "metadata": {},
   "outputs": [],
   "source": [
    "## DATASETS TO EVALUATE (CHANGE AS NEEDED)\n",
    "design_sets = [\"4cay\", \"4cay_new\", \"4cay_supercloud\"]"
   ]
  },
  {
   "cell_type": "code",
   "execution_count": 13,
   "id": "fd632200-5960-422e-9b63-d06a8962e342",
   "metadata": {},
   "outputs": [],
   "source": [
    "args.batch_size=1"
   ]
  },
  {
   "cell_type": "code",
   "execution_count": 14,
   "id": "5757352b-0ef8-45ff-8c71-a30a70d71294",
   "metadata": {},
   "outputs": [
    {
     "name": "stdout",
     "output_type": "stream",
     "text": [
      "running on 4cay.\n",
      "{'max_coords_len': 2000, 'shuffle_coords': False, 'max_seq_len': 1024, 'pos_offset': 128, 'burn_in': 0, 'k_neighbors': 30, 'crop_type': 'absolute', 'shuffle_chains': False, 'num_mutations': 0, 'masked_rate': -1.0, 'masked_mode': 'MASK'}\n",
      "added select filtering... 30\n",
      "0 0\n"
     ]
    },
    {
     "name": "stderr",
     "output_type": "stream",
     "text": [
      "1it [00:00, 16.03it/s]\n",
      "0it [00:00, ?it/s]/tmp/ipykernel_255123/3490658105.py:43: FutureWarning: `torch.cuda.amp.autocast(args...)` is deprecated. Please use `torch.amp.autocast('cuda', args...)` instead.\n",
      "  with autocast(dtype=torch.float16):\n",
      "1it [00:00,  5.75it/s]"
     ]
    },
    {
     "name": "stdout",
     "output_type": "stream",
     "text": [
      "running on 4cay_new.\n",
      "{'max_coords_len': 2000, 'shuffle_coords': False, 'max_seq_len': 1024, 'pos_offset': 128, 'burn_in': 0, 'k_neighbors': 30, 'crop_type': 'absolute', 'shuffle_chains': False, 'num_mutations': 0, 'masked_rate': -1.0, 'masked_mode': 'MASK'}\n",
      "added select filtering... 30\n",
      "0 0\n"
     ]
    },
    {
     "name": "stderr",
     "output_type": "stream",
     "text": [
      "\n",
      "1it [00:00, 13.56it/s]\n",
      "1it [00:00,  5.91it/s]"
     ]
    },
    {
     "name": "stdout",
     "output_type": "stream",
     "text": [
      "running on 4cay_supercloud.\n",
      "{'max_coords_len': 2000, 'shuffle_coords': False, 'max_seq_len': 1024, 'pos_offset': 128, 'burn_in': 0, 'k_neighbors': 30, 'crop_type': 'absolute', 'shuffle_chains': False, 'num_mutations': 0, 'masked_rate': -1.0, 'masked_mode': 'MASK'}\n",
      "added select filtering... 30\n",
      "0 0\n"
     ]
    },
    {
     "name": "stderr",
     "output_type": "stream",
     "text": [
      "\n",
      "1it [00:00, 14.65it/s]\n",
      "1it [00:00,  6.02it/s]\n"
     ]
    }
   ],
   "source": [
    "## PERFORMS RLA CALCULATION (NO CHANGES NEEDED)\n",
    "if CLIP_MODE:\n",
    "    feature_getter = get_text_and_image_features_clip\n",
    "else:\n",
    "    feature_getter = get_text_and_image_features\n",
    "    \n",
    "torch.multiprocessing.set_sharing_strategy('file_system')\n",
    "nclash_dict, Fnat_dict, Fnonnat_dict, LRMS_dict, iRMSDbb_dict, irmsdsc_dict, distance_dict, theta_dict, class_dict = {}, {}, {}, {}, {}, {}, {}, {}, {}\n",
    "dicts = [nclash_dict, Fnat_dict, Fnonnat_dict, LRMS_dict, iRMSDbb_dict, irmsdsc_dict, distance_dict, theta_dict, class_dict]\n",
    "nclash_data, Fnat_data, Fnonnat_data, LRMS_data, iRMSDbb_data, irmsdsc_data, distance_data, theta_data, class_data = {}, {}, {}, {}, {}, {}, {}, {}, {}\n",
    "data_dicts = [nclash_data, Fnat_data, Fnonnat_data, LRMS_data, iRMSDbb_data, irmsdsc_data, distance_data, theta_data, class_data]\n",
    "args.batch_size = 1\n",
    "args.zip_enabled = False\n",
    "args.num_mutations = 0\n",
    "args.distributed = 0\n",
    "plot_scores = []\n",
    "plot_weights = []\n",
    "plot_pep_mask = []\n",
    "plot_indices = []\n",
    "plot_X = []\n",
    "plot_seq = []\n",
    "paired_res_scores = {}\n",
    "scores_stats = {'models': [], 'seqs': [], 'rla_scores': []}\n",
    "# result_types = ['nclash', 'fnat', 'fnonnat', 'lrmsd', 'irmsdbb', 'irmsdsc', 'distance', 'theta', 'classification']\n",
    "for design_set in design_sets:\n",
    "    print(f'running on {design_set}.')\n",
    "    args.train_wds_path = f\"{design_set}.wds\"\n",
    "    args.val_wds_path = f\"{design_set}.wds\"\n",
    "    train_loader, val_loader, train_len, val_len = get_wds_loaders(args, coordinator_params, gpu=None, shuffle_train=False, val_only=True, return_count=False)\n",
    "    lens = {}\n",
    "    for i, b in tqdm(enumerate(val_loader), total=val_len):\n",
    "        lens[b[0]['pdb_id'][0]] = len(b[0]['string_sequence'][0])\n",
    "    MAX_LEN = max(lens.values())\n",
    "    \n",
    "    for i, batch in enumerate(tqdm(val_loader, total=val_len)):\n",
    "        model = batch[0]['pdb_id'][0]\n",
    "        pep_seq = batch[0]['string_sequence'][0][:batch[1]['seq_lens'][0][0]]\n",
    "        chain_lens = torch.zeros(batch[1]['coords'][0].shape[1]).to(device = batch[1]['coords'][0].device)\n",
    "        chain_lens[batch[1]['seq_lens'][0][0]:] = 1\n",
    "        chain_lens_mask = torch.ones(batch[1]['coords'][0].shape[1]).unsqueeze(0).to(dtype=torch.bool, device = batch[1]['coords'][0].device)\n",
    "        batch[1]['chain_lens'] = [chain_lens.unsqueeze(0), chain_lens_mask]\n",
    "        with torch.no_grad():\n",
    "            with autocast(dtype=torch.float16):\n",
    "                output_dict = feature_getter(trained_model, tokenizer, batch, pdb=None, weight_dists=weight_dists, seq_mask=seq_mask, focus=focus, top_k=top_k, struct_mask=struct_mask, remove_far=remove_far, threshold=threshold, dev=dev)\n",
    "                score, scores, plot_scores, plot_weights, plot_pep_mask, plot_indices, plot_X, plot_seq = compute_score(output_dict, weight_dists, MAX_LEN, plot_scores=plot_scores, plot_weights=plot_weights, plot_pep_mask=plot_pep_mask, plot_indices=plot_indices, plot_X=plot_X, plot_seq=plot_seq, is_complex=True)\n",
    "                scores_stats['models'].append(model)\n",
    "                scores_stats['seqs'].append(pep_seq)\n",
    "                scores_stats['rla_scores'].append(score)\n",
    "                paired_res_scores[model] = score"
   ]
  },
  {
   "cell_type": "code",
   "execution_count": 15,
   "id": "b5bb0924",
   "metadata": {},
   "outputs": [
    {
     "data": {
      "text/plain": [
       "{'models': ['pdbs/4cay', 'pdbs/4cay', 'pdbs/4cay'],\n",
       " 'seqs': ['SRSQRAGLQFPVGRIHRHLKSRGRVGATAAVYSAAILEYLTAEVLELAGNASKDLKVKRITPRHLQLAIRGDEELDSLIKATIAGG',\n",
       "  'SRSQRAGLQFPVGRIHRHLKSRGRVGATAAVYSAAILEYLTAEVLELAGNASKDLKVKRITPRHLQLAIRGDEELDSLIKATIAGG',\n",
       "  'SRSQRAGLQFPVGRIHRHLKSRGRVGATAAVYSAAILEYLTAEVLELAGNASKDLKVKRITPRHLQLAIRGDEELDSLIKATIAGG'],\n",
       " 'rla_scores': [0.30594228208065033, 0.30594228208065033, 0.30594228208065033]}"
      ]
     },
     "execution_count": 15,
     "metadata": {},
     "output_type": "execute_result"
    }
   ],
   "source": [
    "scores_stats"
   ]
  },
  {
   "cell_type": "code",
   "execution_count": null,
   "id": "d9eacc10-5ba2-443e-8b2d-86d7db46ccb0",
   "metadata": {},
   "outputs": [],
   "source": [
    "## SAVE/LOAD RAW SCORES AND SEQUENCE MAPPINGS (CHANGE JSON WRITING/READING AS NEEDED)\n",
    "import json\n",
    "\n",
    "with open('/PATH/TO/OUTPUTS/seq_mapping.json', 'w') as f:\n",
    "    json.dump(scores_stats, f)\n",
    "with open('/PATH/TO/OUTPUTS/scores.json', 'w') as f:\n",
    "    json.dump(paired_res_scores, f)"
   ]
  }
 ],
 "metadata": {
  "kernelspec": {
   "display_name": "Python [conda env:rla_new]",
   "language": "python",
   "name": "conda-env-rla_new-py"
  },
  "language_info": {
   "codemirror_mode": {
    "name": "ipython",
    "version": 3
   },
   "file_extension": ".py",
   "mimetype": "text/x-python",
   "name": "python",
   "nbconvert_exporter": "python",
   "pygments_lexer": "ipython3",
   "version": "3.10.14"
  }
 },
 "nbformat": 4,
 "nbformat_minor": 5
}
